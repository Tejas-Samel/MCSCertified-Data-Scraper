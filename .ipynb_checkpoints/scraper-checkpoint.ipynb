{
 "cells": [
  {
   "cell_type": "markdown",
   "metadata": {},
   "source": [
    "from requests import Session\n",
    "from bs4 import BeautifulSoup\n",
    "\n",
    "import json\n",
    "import pandas as pd\n",
    "from googleConnector import googleSheetsHandler"
   ]
  },
  {
   "cell_type": "code",
   "execution_count": null,
   "metadata": {},
   "outputs": [],
   "source": [
    "#Headers For request to website"
   ]
  },
  {
   "cell_type": "code",
   "execution_count": 2,
   "metadata": {},
   "outputs": [],
   "source": [
    "\n",
    "headers = {\n",
    "    'User-Agent': 'Mozilla/5.0 (Linux; Android 6.0; Nexus 5 Build/MRA58N)'\n",
    "                  'AppleWebKit/537.36 (KHTML, like Gecko) Chrome/115.0.0.0 Mobile Safari/537.36'\n",
    "}"
   ]
  },
  {
   "cell_type": "code",
   "execution_count": 3,
   "metadata": {},
   "outputs": [],
   "source": [
    "# Creating session with Website\n",
    "sess = Session()\n",
    "# url for creating session\n",
    "url = \"https://mcscertified.com/find-an-installer/\"\n",
    "response = sess.get(url)"
   ]
  },
  {
   "cell_type": "code",
   "execution_count": 4,
   "metadata": {},
   "outputs": [],
   "source": [
    "#URL for json response and data to be posted\n",
    "main_url = 'https://mcs-website-widget.solsticecloud.com//Search/Search_Installers_TypeAndLocation'\n",
    "postJson = {\n",
    "    \"sourceLat\": \"54.559449\",\n",
    "     \"sourceLng\": \"-4.4091917\",\n",
    "     \"nearest\": 99999,\n",
    "     \"selectedTechnologies\": \"\",\n",
    "     \"selectedRegions\": \"Eastern,EastMidlands,London,NorthEast,NorthWest,SouthEast,SouthWest,\"\n",
    "                        \"WestMidlands,YorkshireHumberside,Scotland,Wales,NorthernIreland\",\n",
    "     \"sortMode\": 1}"
   ]
  },
  {
   "cell_type": "code",
   "execution_count": 5,
   "metadata": {},
   "outputs": [],
   "source": [
    "#Posting the data\n",
    "response = sess.post(main_url, headers=headers, json=postJson)"
   ]
  },
  {
   "cell_type": "code",
   "execution_count": 6,
   "metadata": {
    "editable": true,
    "slideshow": {
     "slide_type": ""
    },
    "tags": []
   },
   "outputs": [],
   "source": [
    "#Performing transformation and cleaning of data\n",
    "dataframe_list = pd.read_json(response.json(), encoding='utf-8')\n",
    "\n",
    "#Removing Not a Number (NaN) from DataFrame\n",
    "dataframe_list = dataframe_list.fillna(0)\n",
    "\n",
    "temp=list(dataframe_list)\n",
    "dataframe_list=dataframe_list.values.tolist()\n",
    "\n",
    "dataframe_list.insert(0,temp)"
   ]
  },
  {
   "cell_type": "code",
   "execution_count": 7,
   "metadata": {},
   "outputs": [],
   "source": [
    "gshObject = googleSheetsHandler()"
   ]
  },
  {
   "cell_type": "code",
   "execution_count": 8,
   "metadata": {
    "scrolled": true
   },
   "outputs": [
    {
     "name": "stdout",
     "output_type": "stream",
     "text": [
      "##########################################\n",
      "Sheet Does Not Exist\n",
      "##########################################\n",
      "Do You Want to create Sheet\n",
      "ENTER YES OR NO \n",
      "\n"
     ]
    },
    {
     "name": "stdin",
     "output_type": "stream",
     "text": [
      " YES\n"
     ]
    },
    {
     "name": "stdout",
     "output_type": "stream",
     "text": [
      "\n",
      "\n",
      "##########################################\n",
      "##########################################\n",
      "ENTER SHEET NAME\n",
      "\n"
     ]
    },
    {
     "name": "stdin",
     "output_type": "stream",
     "text": [
      " SHEET789456\n"
     ]
    },
    {
     "name": "stdout",
     "output_type": "stream",
     "text": [
      "\n",
      "##########################################\n",
      "\n",
      "##########################################\n",
      "NEW SPREADSHEET CREATED\n",
      "SpreadsheetId: None \n",
      " title: SHEET789456\n",
      "\n",
      "##########################################\n"
     ]
    }
   ],
   "source": [
    "gshObject.insertData(data=dataframe_list)"
   ]
  },
  {
   "cell_type": "code",
   "execution_count": null,
   "metadata": {},
   "outputs": [],
   "source": [
    "gshObject.removeAllDataFromSheet()"
   ]
  },
  {
   "cell_type": "code",
   "execution_count": null,
   "metadata": {},
   "outputs": [],
   "source": [
    "gshObject.readData()"
   ]
  }
 ],
 "metadata": {
  "kernelspec": {
   "display_name": "Python 3 (ipykernel)",
   "language": "python",
   "name": "python3"
  },
  "language_info": {
   "codemirror_mode": {
    "name": "ipython",
    "version": 3
   },
   "file_extension": ".py",
   "mimetype": "text/x-python",
   "name": "python",
   "nbconvert_exporter": "python",
   "pygments_lexer": "ipython3",
   "version": "3.9.4"
  }
 },
 "nbformat": 4,
 "nbformat_minor": 4
}
